{
 "cells": [
  {
   "cell_type": "markdown",
   "id": "ef6f2211",
   "metadata": {},
   "source": [
    "# Speculative Decoding Experiments"
   ]
  },
  {
   "cell_type": "markdown",
   "id": "736d1477",
   "metadata": {},
   "source": [
    "## Simulation\n",
    "\n",
    "In this section, we simulate the distribution resulting from the use of speculative decoding and compare it with $p(x)$."
   ]
  },
  {
   "cell_type": "code",
   "execution_count": null,
   "id": "601f22c0",
   "metadata": {},
   "outputs": [],
   "source": [
    "import random\n",
    "import matplotlib.pyplot as plt\n",
    "\n",
    "# Define simple discrete distributions (example)\n",
    "p_x = {0: 0.4, 1: 0.3, 2: 0.2, 3: 0.1}  # Target distribution\n",
    "q_x = {0: 0.3, 1: 0.4, 2: 0.2, 3: 0.1}  # Proposal distribution\n",
    "NUM_SAMPLES = 100000  # Number of samples for empirical distribution\n",
    "\n",
    "# Simulate speculative sampling\n",
    "samples = []\n",
    "for _ in range(NUM_SAMPLES):\n",
    "    # Sample from q(x)\n",
    "    x = random.choices(list(q_x.keys()), weights=list(q_x.values()), k=1)[0]\n",
    "    \n",
    "    # Acceptance check\n",
    "    if q_x[x] <= p_x[x]:\n",
    "        samples.append(x)\n",
    "    else:\n",
    "        # Rejection with probability 1 - p(x)/q(x)\n",
    "        rejection_prob = 1 - (p_x[x] / q_x[x])\n",
    "        if random.random() > rejection_prob:\n",
    "            samples.append(x)\n",
    "        else:\n",
    "            # Resample from adjusted distribution p'(x)\n",
    "            residual = max(0, p_x[x] - q_x[x])\n",
    "            total_residual = sum(max(0, p_x[x_] - q_x[x_]) for x_ in p_x)\n",
    "            p_prime = {x_: max(0, p_x[x_] - q_x[x_]) / total_residual for x_ in p_x} if total_residual > 0 else p_x\n",
    "            x_new = random.choices(list(p_prime.keys()), weights=list(p_prime.values()), k=1)[0]\n",
    "            samples.append(x_new)\n",
    "\n",
    "# Compute empirical distribution\n",
    "empirical_dist = {x: 0. for x in p_x}\n",
    "for x in samples:\n",
    "    empirical_dist[x] += 1\n",
    "for x in empirical_dist:\n",
    "    empirical_dist[x] /= NUM_SAMPLES\n",
    "\n",
    "# Plotting\n",
    "x_values = list(p_x.keys())\n",
    "plt.bar([x - 0.2 for x in x_values], [p_x[x] for x in x_values], 0.4, label='p(x)', color='blue')\n",
    "plt.bar([x + 0.2 for x in x_values], [empirical_dist[x] for x in x_values], 0.4, label='Empirical', color='orange')\n",
    "plt.xlabel('Outcome')\n",
    "plt.ylabel('Probability')\n",
    "plt.title('Comparison of p(x) and Empirical Distribution from Speculative Sampling')\n",
    "plt.legend()\n",
    "plt.xticks(x_values)\n",
    "plt.show()"
   ]
  },
  {
   "cell_type": "markdown",
   "id": "ea0c5520",
   "metadata": {},
   "source": [
    "## Calculation\n",
    "\n",
    "In this section, we calculate the exact probability of each event occurring and confirm that it matches $p$."
   ]
  },
  {
   "cell_type": "code",
   "execution_count": null,
   "id": "384b76a1",
   "metadata": {},
   "outputs": [],
   "source": [
    "# Define the distributions\n",
    "p_x = {0: 0.4, 1: 0.3, 2: 0.2, 3: 0.1}  # Target distribution\n",
    "q_x = {0: 0.3, 1: 0.4, 2: 0.2, 3: 0.1}  # Proposal distribution\n",
    "\n",
    "# Calculate the total residual probability R\n",
    "R = sum(max(0, p_x[x] - q_x[x]) for x in p_x)\n",
    "\n",
    "# Initialize probability dictionary\n",
    "P_x = {x: 0.0 for x in p_x}\n",
    "\n",
    "# Calculate probabilities for each x\n",
    "for x in p_x:\n",
    "    # Acceptance probability\n",
    "    accept_prob = q_x[x] * min(1, p_x[x] / q_x[x])\n",
    "    P_x[x] += accept_prob\n",
    "    \n",
    "    # Rejection and resampling probability\n",
    "    reject_prob = 1 - min(1, p_x[x] / q_x[x])\n",
    "    if reject_prob > 0:\n",
    "        residual = max(0, p_x[x] - q_x[x])\n",
    "        if R > 0:\n",
    "            p_prime_x = residual / R if residual > 0 else 0\n",
    "            # Contribution from rejection and resampling to all x\n",
    "            for x_prime in p_x:\n",
    "                if max(0, p_x[x_prime] - q_x[x_prime]) > 0:\n",
    "                    P_x[x_prime] += q_x[x] * reject_prob * (max(0, p_x[x_prime] - q_x[x_prime]) / R)\n",
    "\n",
    "# Print results\n",
    "print(\"Target distribution p(x):\", p_x)\n",
    "print(\"Calculated distribution P(x) from speculative sampling:\", P_x)\n",
    "for x in p_x:\n",
    "    diff = abs(p_x[x] - P_x[x])\n",
    "    print(f\"Difference for x={x}: {diff:.6f}\")"
   ]
  }
 ],
 "metadata": {
  "kernelspec": {
   "display_name": "pwd",
   "language": "python",
   "name": "python3"
  },
  "language_info": {
   "codemirror_mode": {
    "name": "ipython",
    "version": 3
   },
   "file_extension": ".py",
   "mimetype": "text/x-python",
   "name": "python",
   "nbconvert_exporter": "python",
   "pygments_lexer": "ipython3",
   "version": "3.11.6"
  }
 },
 "nbformat": 4,
 "nbformat_minor": 5
}
